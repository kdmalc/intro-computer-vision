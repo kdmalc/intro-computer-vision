{
  "nbformat": 4,
  "nbformat_minor": 0,
  "metadata": {
    "colab": {
      "provenance": [],
      "include_colab_link": true
    },
    "kernelspec": {
      "name": "python3",
      "display_name": "Python 3"
    },
    "language_info": {
      "name": "python"
    },
    "accelerator": "GPU",
    "gpuClass": "standard"
  },
  "cells": [
    {
      "cell_type": "markdown",
      "metadata": {
        "id": "view-in-github",
        "colab_type": "text"
      },
      "source": [
        "<a href=\"https://colab.research.google.com/github/kdmalc/intro-computer-vision/blob/main/HW4_2025.ipynb\" target=\"_parent\"><img src=\"https://colab.research.google.com/assets/colab-badge.svg\" alt=\"Open In Colab\"/></a>"
      ]
    },
    {
      "cell_type": "markdown",
      "source": [
        "Name: Kai Malcolm\n",
        "\n",
        "NetID: km82\n",
        "\n",
        "Collaborators: NA"
      ],
      "metadata": {
        "id": "LT3k_MzHAY-R"
      }
    },
    {
      "cell_type": "markdown",
      "source": [
        "## General instructions\n",
        "Please copy this colab notebook into your own Drive to edit. This notebook will also serve as your final submission report - please ensure that code cells run correctly, and that all non-code (text/latex) blocks are rendered correctly before submissing the file. Feel free to add any additional cells (code or text) you need. Please follow good coding, markdown, and presentation etiquette.\n",
        "\n",
        "__Please do not use any AI tools for this assignment.__\n",
        "\n",
        "\n",
        "## Submission instructions\n",
        "\n",
        "- Before submitting, please `run-all` the code. This will re-render your entire jupyter file cell by cell to produce all the outputs.\n",
        "\n",
        "- You are required to download the colab notebook as a `.ipynb` file and submit it to canvas. Please name your `.ipynb` file as `netid.ipynb`\n",
        "\n",
        "- Modify the text cell on top to include your name and the names of any collaborators from this class you worked with on this assignment.\n",
        "\n",
        "- Download a pdf of the executed colab notebook. You can use print -> save as pdf. Please name your `.pdf` file as `netid.pdf`.\n",
        "\n",
        "- Any extra images used in the homework should also be uploaded to canvas.\n",
        "\n",
        "- For simplicity, you can also upload a `netid.zip` file to canvas containing all solution files."
      ],
      "metadata": {
        "id": "xSfLGHQ6AZ33"
      }
    },
    {
      "cell_type": "code",
      "execution_count": 1,
      "metadata": {
        "id": "EjDYul5zmfFf",
        "colab": {
          "base_uri": "https://localhost:8080/"
        },
        "outputId": "4f62ad60-b0cd-4e79-ad9d-c387ffd71f4f"
      },
      "outputs": [
        {
          "output_type": "stream",
          "name": "stdout",
          "text": [
            "Mounted at /content/drive\n"
          ]
        }
      ],
      "source": [
        "import math\n",
        "import numpy as np\n",
        "import imageio.v2 as imageio\n",
        "import matplotlib.pyplot as plt\n",
        "\n",
        "import torch\n",
        "import torch.nn as nn\n",
        "import torch.nn.functional as F\n",
        "from torch.utils import data\n",
        "from torch.utils.data import Dataset\n",
        "from torchvision import transforms as T\n",
        "\n",
        "from google.colab import drive\n",
        "drive.mount('/content/drive')"
      ]
    },
    {
      "cell_type": "markdown",
      "source": [
        "## Problem 1"
      ],
      "metadata": {
        "id": "nz-maMM7ptjn"
      }
    },
    {
      "cell_type": "markdown",
      "source": [
        "### Problem 1.1: Basics of Autograd"
      ],
      "metadata": {
        "id": "hiM-x3Sumt5k"
      }
    },
    {
      "cell_type": "code",
      "source": [
        "\"\"\"\n",
        "Taylor approximation to sin(x).\n",
        "x: (Tensor[float]) input value(s)\n",
        "n: (int) number of terms in Taylor approximation\n",
        "\n",
        "Output:\n",
        "(Tensor[float]) Taylor approximation to sin(x)\n",
        "\"\"\"\n",
        "def sin_taylor(x, n=10):\n",
        "  # f(x) ~ \\sum f^n(a)/(n!) * (x-a)^n\n",
        "  # Let a = 0 (assuming we are evaluating at 0)\n",
        "  # f(x) is just sin(x)\n",
        "  # n is the number of terms to use in the approx\n",
        "  result = 0\n",
        "  for k in range(n):\n",
        "      sign = 1 if k % 4 != 3 else -1\n",
        "      if k%2==0:\n",
        "          deriv = np.sin(0)\n",
        "      else:\n",
        "          deriv = np.cos(0)\n",
        "      #print(f\"k: {k}; sign: {sign}, deriv: {deriv}\")\n",
        "      term = sign * deriv / math.factorial(k) * (x ** k)\n",
        "      result += term\n",
        "  return result"
      ],
      "metadata": {
        "id": "m6po0oOmmh8F"
      },
      "execution_count": 5,
      "outputs": []
    },
    {
      "cell_type": "code",
      "source": [
        "print(sin_taylor(np.pi / 2, 10))  # Should be close to 1"
      ],
      "metadata": {
        "id": "VrRp8jnqNdAx",
        "outputId": "b42881a4-61b0-4987-c8af-3306562e267f",
        "colab": {
          "base_uri": "https://localhost:8080/"
        }
      },
      "execution_count": 6,
      "outputs": [
        {
          "output_type": "stream",
          "name": "stdout",
          "text": [
            "1.0000035425842861\n"
          ]
        }
      ]
    },
    {
      "cell_type": "code",
      "source": [
        "# 1b\n",
        "\n",
        "x = torch.tensor(np.pi / 4, dtype=torch.float64, requires_grad=True)\n",
        "y = sin_taylor(x, 10)\n",
        "# Use autograd to compute dy/dx\n",
        "y.backward()\n",
        "\n",
        "# Compare to exact derivative: cos(π/4)\n",
        "print(\"My taylor approx answer:\", y.item())\n",
        "print(\"Autograd answer:\", x.grad.item())\n",
        "print(\"Gruond truth:\", np.cos(math.pi/4))\n"
      ],
      "metadata": {
        "id": "ZkLPYMg4J8_Y",
        "outputId": "10910e1c-7568-4d32-fb9c-61a06e867b50",
        "colab": {
          "base_uri": "https://localhost:8080/"
        }
      },
      "execution_count": 7,
      "outputs": [
        {
          "output_type": "stream",
          "name": "stdout",
          "text": [
            "Taylor approximation of sin(π/4): 0.7071067829368671\n",
            "Autograd-computed derivative: 0.7071068056832943\n",
            "Exact derivative (cos(π/4)): 0.7071067811865476\n"
          ]
        }
      ]
    },
    {
      "cell_type": "code",
      "source": [
        "# 1c\n",
        "\n",
        "x_npy = np.random.uniform(-math.pi, math.pi, size=100)\n",
        "x = torch.tensor(x_npy, dtype=torch.float32).to('cuda')\n",
        "x.requires_grad_()\n",
        "y = sin_taylor(x, 10)\n",
        "z = y.sum().backward()\n",
        "\n",
        "print(\"x.grad (calc dy/dx):\\n\", x.grad)\n",
        "print()\n",
        "print(\"Error: x.grad (calc dy/dx) VS ground truth (cosx):\\n\", x.grad - torch.cos(x))\n"
      ],
      "metadata": {
        "id": "WAD5kHu-J89Z",
        "outputId": "215978d2-6afa-48a0-c1fe-5f8a54d9b68a",
        "colab": {
          "base_uri": "https://localhost:8080/"
        }
      },
      "execution_count": 12,
      "outputs": [
        {
          "output_type": "stream",
          "name": "stdout",
          "text": [
            "x.grad (calc dy/dx):\n",
            " tensor([-0.5125,  0.6869,  0.2034,  0.0752, -0.3332,  0.1907,  0.8231, -0.1285,\n",
            "         0.3259, -0.0666,  0.2070,  0.7489,  0.8469,  0.9902, -0.7884, -0.8041,\n",
            "        -0.9784,  0.5954,  0.9976,  0.4235, -0.5146,  0.9240, -0.9636, -0.8985,\n",
            "         0.8317, -0.9732, -0.8262, -0.8618, -0.9212,  0.4550,  0.1851,  0.9442,\n",
            "         0.6604,  0.7305,  0.8487,  0.5109, -0.7786, -0.5392,  0.6781, -0.6251,\n",
            "        -0.4671, -0.9763, -0.9769,  0.4171, -0.9504, -0.2347, -0.9218, -0.5569,\n",
            "         0.9022,  0.3936,  0.8046, -0.4175,  0.5536,  0.9920, -0.0671, -0.3226,\n",
            "        -0.3793, -0.0177,  0.8651,  0.1786, -0.9781,  0.5059, -0.8384,  0.6876,\n",
            "        -0.9742,  0.0508, -0.7424, -0.4287, -0.1252,  0.6924, -0.3114,  0.9999,\n",
            "         0.4570,  0.7973,  0.6359, -0.9230, -0.4576, -0.9780, -0.9686, -0.0148,\n",
            "        -0.9762, -0.7983,  0.0247,  0.9467,  0.7543, -0.5259, -0.2393,  0.3434,\n",
            "        -0.7906, -0.9646,  0.9294, -0.1744,  0.0811, -0.0238,  0.9926, -0.6514,\n",
            "        -0.6929,  0.7694,  0.3761, -0.6060], device='cuda:0')\n",
            "\n",
            "Error: x.grad (calc dy/dx) VS ground truth (cosx):\n",
            " tensor([ 4.6444e-04,  5.9605e-08,  6.0499e-06,  1.5095e-05,  1.7366e-04,\n",
            "         6.6906e-06,  0.0000e+00,  5.4330e-05,  2.2948e-06,  3.7424e-05,\n",
            "         5.9158e-06, -5.9605e-08,  0.0000e+00,  0.0000e+00,  2.3430e-03,\n",
            "         2.6015e-03,  1.9983e-02,  5.9605e-08,  0.0000e+00,  9.5367e-07,\n",
            "         4.7022e-04, -5.9605e-08,  1.1581e-02,  5.3612e-03,  0.0000e+00,\n",
            "         1.4440e-02,  3.0350e-03,  3.9528e-03,  6.6606e-03,  6.5565e-07,\n",
            "         7.0482e-06,  0.0000e+00,  5.9605e-08,  0.0000e+00,  0.0000e+00,\n",
            "         4.1723e-07,  2.1967e-03,  5.3847e-04,  0.0000e+00,  8.7112e-04,\n",
            "         3.6243e-04,  1.6210e-02,  2.2978e-02,  9.8348e-07,  9.3915e-03,\n",
            "         1.0024e-04,  6.7062e-03,  5.9420e-04,  0.0000e+00,  1.2815e-06,\n",
            "         0.0000e+00,  2.7600e-04,  2.3842e-07,  0.0000e+00,  3.7573e-05,\n",
            "         1.6400e-04,  2.2399e-04,  2.7725e-05,  0.0000e+00,  7.3910e-06,\n",
            "         2.0933e-02,  3.5763e-07,  3.3122e-03,  0.0000e+00,  1.4892e-02,\n",
            "         1.7829e-05,  1.7442e-03,  2.9370e-04,  5.3272e-05,  0.0000e+00,\n",
            "         1.5411e-04,  0.0000e+00,  6.8545e-07, -5.9605e-08,  1.1921e-07,\n",
            "         6.7882e-03,  3.4398e-04,  1.8023e-02,  1.2839e-02,  2.7154e-05,\n",
            "         1.6091e-02,  2.5018e-03,  2.1135e-05,  0.0000e+00, -5.9605e-08,\n",
            "         5.0014e-04,  1.0294e-04,  1.9670e-06,  2.3773e-03,  1.1803e-02,\n",
            "         0.0000e+00,  7.0944e-05,  1.4603e-05,  2.8774e-05,  0.0000e+00,\n",
            "         1.0127e-03,  1.2916e-03,  0.0000e+00,  1.4603e-06,  7.8171e-04],\n",
            "       device='cuda:0', grad_fn=<SubBackward0>)\n"
          ]
        }
      ]
    },
    {
      "cell_type": "code",
      "source": [
        "# 1d\n",
        "\n",
        "# Using the same variables from 1c\n",
        "dzdx = x.grad.cpu().numpy()\n",
        "\n",
        "plt.figure()\n",
        "plt.scatter(x_npy, dzdx, label=\"Autograd dz/dx\")\n",
        "plt.plot(np.sort(x_npy), np.cos(np.sort(x_npy)), label=\"cos(x)\", color='black')\n",
        "plt.xlabel(\"x\")\n",
        "plt.ylabel(\"Gradient\")\n",
        "plt.title(\"Comparing autograd gradient calc to ground truth gradient\")\n",
        "plt.legend()\n",
        "plt.tight_layout()\n",
        "plt.show()\n"
      ],
      "metadata": {
        "id": "lWfOlqwCJ862",
        "outputId": "89ad8f7c-d67e-4301-9183-d14835bf0fb8",
        "colab": {
          "base_uri": "https://localhost:8080/",
          "height": 487
        }
      },
      "execution_count": 21,
      "outputs": [
        {
          "output_type": "display_data",
          "data": {
            "text/plain": [
              "<Figure size 640x480 with 1 Axes>"
            ],
            "image/png": "[encoded data removed]"
          },
          "metadata": {}
        }
      ]
    },
    {
      "cell_type": "markdown",
      "source": [
        "### Problem 1.2: Image Denoising"
      ],
      "metadata": {
        "id": "yB4q34KznxXz"
      }
    },
    {
      "cell_type": "code",
      "source": [
        "\"\"\"\n",
        "Returns the x and y gradient images for input image I.\n",
        "Input:\n",
        "I: (Tensor) Image of shape (H, W, 3)\n",
        "\n",
        "Output:\n",
        "(Ix, Iy): (Tensor) Gradient images each of shape (H, W, 3)\n",
        "\"\"\"\n",
        "def get_spatial_gradients(I):\n",
        "  I = I.permute(2, 0, 1).unsqueeze(0) # Change I's shape from (H, W, 3) to (1, 3, H, W)\n",
        "  kx = torch.zeros(I.shape[1], I.shape[1], 3, 3).to(I.device)\n",
        "  ky = torch.zeros(I.shape[1], I.shape[1], 3, 3).to(I.device)\n",
        "\n",
        "  for i in range(3):\n",
        "    kx[i, i, 1, 1] = -1\n",
        "    kx[i, i, 1, 2] = 1\n",
        "    ky[i, i, 1, 1] = -1\n",
        "    ky[i, i, 2, 1] = 1\n",
        "\n",
        "  Ix = F.conv2d(I, kx, padding=1)\n",
        "  Iy = F.conv2d(I, ky, padding=1)\n",
        "  return Ix[0,...].permute(1,2,0), Iy[0,...].permute(1,2,0)\n",
        "\n",
        "\"\"\"\n",
        "Denoising objective function.\n",
        "Input:\n",
        "I, J: (Tensor) Images of shape (H, W, 3)\n",
        "alpha: (float) Regularization hyperparameter\n",
        "\n",
        "Output:\n",
        "loss: (Tensor[float])\n",
        "\"\"\"\n",
        "def denoising_loss(I, J, alpha):\n",
        "  return None # Replace with your code for 1.2a."
      ],
      "metadata": {
        "id": "WXFdZlcVqGG_"
      },
      "execution_count": null,
      "outputs": []
    },
    {
      "cell_type": "code",
      "source": [
        "img = imageio.imread('parrot_noisy.png') / 255.0\n",
        "I = torch.tensor(img, dtype=torch.float32)\n",
        "I = I.to('cuda')\n",
        "\n",
        "lr = None # Learning rate\n",
        "alpha = None # alpha\n",
        "n_iter = None # Number of iterations\n",
        "\n",
        "for i in range(n_iter):\n",
        "  # Your code for 1.2b goes here\n",
        "\n",
        "  with torch.no_grad():\n",
        "    pass # Replace with your code for 1.2b"
      ],
      "metadata": {
        "id": "JD3Bz8Nbnz3D"
      },
      "execution_count": null,
      "outputs": []
    },
    {
      "cell_type": "markdown",
      "source": [
        "## Problem 2: Training an Image Classifier"
      ],
      "metadata": {
        "id": "ZsCVB_DyDZfE"
      }
    },
    {
      "cell_type": "markdown",
      "source": [
        "### 2a: Finish implementing dataset class"
      ],
      "metadata": {
        "id": "EFYCfKH1UD5C"
      }
    },
    {
      "cell_type": "code",
      "source": [
        "class CIFARDataset(Dataset):\n",
        "  def __init__(self, images, labels, mode, transform):\n",
        "    self.transform = transform\n",
        "\n",
        "    if mode == 'train':\n",
        "      pass # Your code here. If training, use examples [0,40000) of the\n",
        "      # entire dataset\n",
        "\n",
        "    elif mode == 'val':\n",
        "      pass # Your code here. If validation, use examples [40,000-50,000)\n",
        "      # of the entire dataset\n",
        "\n",
        "    elif mode == 'test':\n",
        "      pass # Your code here. If testing, use examples [50,000-60,000) of the\n",
        "      # entire dataset\n",
        "\n",
        "    else:\n",
        "      raise ValueError('Invalid mode!')\n",
        "\n",
        "  def __getitem__(self, idx):\n",
        "    # Do the following:\n",
        "    # 1. Get the image and label from the dataset corresponding to index idx.\n",
        "    # 2. Convert the label to a LongTensor (needs to be of this type because it\n",
        "    # is an integer value and PyTorch will throw an error otherwise)\n",
        "    # 3. Transform the image using self.transform. This will convert the image\n",
        "    # into a tensor, scale it to [0,1], and apply data augmentations.\n",
        "    # 4. Return the image and label.\n",
        "    return None\n",
        "\n",
        "  def __len__(self):\n",
        "    return None # Replace with your code."
      ],
      "metadata": {
        "id": "hMRFC93hpfVi"
      },
      "execution_count": null,
      "outputs": []
    },
    {
      "cell_type": "markdown",
      "source": [
        "### 2b: Write transforms"
      ],
      "metadata": {
        "id": "vb_AS9u6UKcv"
      }
    },
    {
      "cell_type": "code",
      "source": [
        "cifar = np.load('/content/drive/MyDrive/CIFAR.npz')\n",
        "X, y, label_names = cifar['X'], cifar['y'] * 1.0, cifar['label_names']\n",
        "print(\"Read in CIFAR10 dataset with %d examples, and labels:\\n %s\" % (X.shape[0], label_names))\n",
        "\n",
        "batch_size = 64\n",
        "\n",
        "transform = None # Add transforms.\n",
        "train_dataset = CIFARDataset(X, y, \"train\", transform)\n",
        "train_dataloader = data.DataLoader(train_dataset, batch_size=batch_size, shuffle=True, num_workers=1)\n",
        "\n",
        "transform = None # No transforms, but should still include ToTensor().\n",
        "val_dataset = CIFARDataset(X, y, \"val\", transform)\n",
        "val_dataloader = data.DataLoader(val_dataset, batch_size=batch_size, shuffle=True, num_workers=1)\n",
        "\n",
        "transform = None # No transforms, but should still include ToTensor().\n",
        "test_dataset = CIFARDataset(X, y, \"test\", transform)\n",
        "test_dataloader = data.DataLoader(test_dataset, batch_size=batch_size, shuffle=False, num_workers=1)"
      ],
      "metadata": {
        "id": "sd6nAkFRzL9E"
      },
      "execution_count": null,
      "outputs": []
    },
    {
      "cell_type": "markdown",
      "source": [
        "### 2c: Implement the model"
      ],
      "metadata": {
        "id": "7UtuM7SfURSt"
      }
    },
    {
      "cell_type": "code",
      "source": [
        "class Model(nn.Module):\n",
        "  def __init__(self):\n",
        "    super().__init__()\n",
        "    pass #Replace with your code\n",
        "\n",
        "  def forward(self, x):\n",
        "    return x #Replace with your code"
      ],
      "metadata": {
        "id": "0b11er66za2r"
      },
      "execution_count": null,
      "outputs": []
    },
    {
      "cell_type": "markdown",
      "source": [
        "### 2d/2e: Implement the training loop, and train your model."
      ],
      "metadata": {
        "id": "pXPzzAtZUU8L"
      }
    },
    {
      "cell_type": "code",
      "source": [
        "# Your code here. Don't forget to call model.train() before training!"
      ],
      "metadata": {
        "id": "n3h8ng4Bu4yZ"
      },
      "execution_count": null,
      "outputs": []
    },
    {
      "cell_type": "markdown",
      "source": [
        "### 2f: Choose the best model based on overall accuracy\n",
        "using the validation dataset."
      ],
      "metadata": {
        "id": "c09bhrEzUYZZ"
      }
    },
    {
      "cell_type": "code",
      "source": [
        "# Your code here. Don't forget to call model.eval() first!"
      ],
      "metadata": {
        "id": "strJmqVJGkBw"
      },
      "execution_count": null,
      "outputs": []
    },
    {
      "cell_type": "markdown",
      "source": [
        "### 2g: Implement code for computing overall accuracy, accuracy per class, and the confusion matrix on the test set."
      ],
      "metadata": {
        "id": "1aNs9SvXUbv9"
      }
    },
    {
      "cell_type": "code",
      "source": [
        "# Your code here. Don't forget to call model.eval() first!"
      ],
      "metadata": {
        "id": "IMO_cqS9GqEU"
      },
      "execution_count": null,
      "outputs": []
    },
    {
      "cell_type": "markdown",
      "source": [
        "## Problem 3: Run Mask R-CNN with Detectron2"
      ],
      "metadata": {
        "id": "oKYC_8FDSRoa"
      }
    },
    {
      "cell_type": "code",
      "source": [
        "# Note: This is a faster way to install detectron2 in Colab, but it does not include all functionalities (e.g. compiled operators).\n",
        "\n",
        "import sys, os, distutils.core\n",
        "!git clone 'https://github.com/facebookresearch/detectron2'\n",
        "dist = distutils.core.run_setup(\"./detectron2/setup.py\")\n",
        "!python -m pip install {' '.join([f\"'{x}'\" for x in dist.install_requires])}\n",
        "sys.path.insert(0, os.path.abspath('./detectron2'))"
      ],
      "metadata": {
        "id": "YZTzyrGkSgVT"
      },
      "execution_count": null,
      "outputs": []
    },
    {
      "cell_type": "code",
      "source": [
        "# import libraries\n",
        "import numpy as np\n",
        "import os, json, cv2, random\n",
        "from google.colab.patches import cv2_imshow\n",
        "\n",
        "import detectron2\n",
        "from detectron2 import model_zoo\n",
        "from detectron2.engine import DefaultPredictor\n",
        "from detectron2.config import get_cfg\n",
        "from detectron2.utils.visualizer import Visualizer\n",
        "from detectron2.data import MetadataCatalog, DatasetCatalog"
      ],
      "metadata": {
        "id": "Cmz8CsIXSpMi"
      },
      "execution_count": null,
      "outputs": []
    },
    {
      "cell_type": "code",
      "source": [
        "# load image\n",
        "im = cv2.imread(\"image path\")\n",
        "cv2_imshow(im)"
      ],
      "metadata": {
        "id": "iygLaAumSv4-"
      },
      "execution_count": null,
      "outputs": []
    },
    {
      "cell_type": "code",
      "source": [
        "# Load pre-trained model\n",
        "# You can find the model cofig from the following url, or other config of your choice\n",
        "# https://github.com/facebookresearch/detectron2/tree/main/configs/COCO-Detection\n",
        "# https://github.com/facebookresearch/detectron2/tree/main/configs/COCO-InstanceSegmentation\n",
        "\n",
        "##### Your code #####\n",
        "cfg = get_cfg()\n",
        "cfg.merge_from_file(model_zoo.get_config_file(\"your choice of pretrained model\"))\n",
        "cfg.MODEL.WEIGHTS = model_zoo.get_checkpoint_url(\"Your choice of pretrained model\")\n",
        "cfg.MODEL.ROI_HEADS.SCORE_THRESH_TEST =   # set threshold for this model (0-1)"
      ],
      "metadata": {
        "id": "QhGC0scvS4pm"
      },
      "execution_count": null,
      "outputs": []
    },
    {
      "cell_type": "code",
      "source": [
        "# Create predictor\n",
        "predictor = DefaultPredictor(cfg)\n",
        "# Run inference on the sample image\n",
        "outputs = predictor(im)"
      ],
      "metadata": {
        "id": "SkG8CN7AVvKr"
      },
      "execution_count": null,
      "outputs": []
    },
    {
      "cell_type": "code",
      "source": [
        "# Visualize results with \"Visualizer\"\n",
        "v = Visualizer(im[:, :, ::-1], MetadataCatalog.get(cfg.DATASETS.TRAIN[0]), scale=1.2)\n",
        "out = v.draw_instance_predictions(outputs[\"instances\"].to(\"cpu\"))\n",
        "cv2_imshow(out.get_image()[:, :, ::-1])"
      ],
      "metadata": {
        "id": "xgCa4P-MV3UH"
      },
      "execution_count": null,
      "outputs": []
    },
    {
      "cell_type": "markdown",
      "source": [
        "## Problem 4: Adversarial attacks for trained networks. Wite code below"
      ],
      "metadata": {
        "id": "tcW7S6YT4glf"
      }
    },
    {
      "cell_type": "code",
      "source": [
        "def fgsm_attack(model, image, eps):\n",
        "  # Your code here."
      ],
      "metadata": {
        "id": "q_mMeLE34j0k"
      },
      "execution_count": null,
      "outputs": []
    },
    {
      "cell_type": "code",
      "source": [
        "# Your code here for creating and displaying adversarial images."
      ],
      "metadata": {
        "id": "xQhk7ImN70s8"
      },
      "execution_count": null,
      "outputs": []
    }
  ]
}