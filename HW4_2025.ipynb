{
  "nbformat": 4,
  "nbformat_minor": 0,
  "metadata": {
    "colab": {
      "provenance": [],
      "toc_visible": true,
      "include_colab_link": true
    },
    "kernelspec": {
      "name": "python3",
      "display_name": "Python 3"
    },
    "language_info": {
      "name": "python"
    },
    "accelerator": "GPU",
    "gpuClass": "standard"
  },
  "cells": [
    {
      "cell_type": "markdown",
      "metadata": {
        "id": "view-in-github",
        "colab_type": "text"
      },
      "source": [
        "<a href=\"https://colab.research.google.com/github/kdmalc/intro-computer-vision/blob/main/HW4_2025.ipynb\" target=\"_parent\"><img src=\"https://colab.research.google.com/assets/colab-badge.svg\" alt=\"Open In Colab\"/></a>"
      ]
    },
    {
      "cell_type": "markdown",
      "source": [
        "Name:\n",
        "\n",
        "NetID:\n",
        "\n",
        "Collaborators:"
      ],
      "metadata": {
        "id": "LT3k_MzHAY-R"
      }
    },
    {
      "cell_type": "markdown",
      "source": [
        "## General instructions\n",
        "Please copy this colab notebook into your own Drive to edit. This notebook will also serve as your final submission report - please ensure that code cells run correctly, and that all non-code (text/latex) blocks are rendered correctly before submissing the file. Feel free to add any additional cells (code or text) you need. Please follow good coding, markdown, and presentation etiquette.\n",
        "\n",
        "__Please do not use any AI tools for this assignment.__\n",
        "\n",
        "\n",
        "## Submission instructions\n",
        "\n",
        "- Before submitting, please `run-all` the code. This will re-render your entire jupyter file cell by cell to produce all the outputs.\n",
        "\n",
        "- You are required to download the colab notebook as a `.ipynb` file and submit it to canvas. Please name your `.ipynb` file as `netid.ipynb`\n",
        "\n",
        "- Modify the text cell on top to include your name and the names of any collaborators from this class you worked with on this assignment.\n",
        "\n",
        "- Download a pdf of the executed colab notebook. You can use print -> save as pdf. Please name your `.pdf` file as `netid.pdf`.\n",
        "\n",
        "- Any extra images used in the homework should also be uploaded to canvas.\n",
        "\n",
        "- For simplicity, you can also upload a `netid.zip` file to canvas containing all solution files."
      ],
      "metadata": {
        "id": "xSfLGHQ6AZ33"
      }
    },
    {
      "cell_type": "code",
      "execution_count": null,
      "metadata": {
        "id": "EjDYul5zmfFf",
        "colab": {
          "base_uri": "https://localhost:8080/"
        },
        "outputId": "09ecbbe5-9c10-43be-dc0c-5bdae9338f0a"
      },
      "outputs": [
        {
          "output_type": "stream",
          "name": "stdout",
          "text": [
            "Mounted at /content/drive\n"
          ]
        }
      ],
      "source": [
        "import math\n",
        "import numpy as np\n",
        "import imageio.v2 as imageio\n",
        "import matplotlib.pyplot as plt\n",
        "\n",
        "import torch\n",
        "import torch.nn as nn\n",
        "import torch.nn.functional as F\n",
        "from torch.utils import data\n",
        "from torch.utils.data import Dataset\n",
        "from torchvision import transforms as T\n",
        "\n",
        "from google.colab import drive\n",
        "drive.mount('/content/drive')"
      ]
    },
    {
      "cell_type": "markdown",
      "source": [
        "## Problem 1"
      ],
      "metadata": {
        "id": "nz-maMM7ptjn"
      }
    },
    {
      "cell_type": "markdown",
      "source": [
        "### Problem 1.1: Basics of Autograd"
      ],
      "metadata": {
        "id": "hiM-x3Sumt5k"
      }
    },
    {
      "cell_type": "code",
      "source": [
        "\"\"\"\n",
        "Taylor approximation to sin(x).\n",
        "x: (Tensor[float]) input value(s)\n",
        "n: (int) number of terms in Taylor approximation\n",
        "\n",
        "Output:\n",
        "(Tensor[float]) Taylor approximation to sin(x)\n",
        "\"\"\"\n",
        "def sin_taylor(x, n=10):\n",
        "  return None # Replace with your code for 1.1a.\n",
        "\n",
        "# Your code here for 1.1b-d goes here"
      ],
      "metadata": {
        "id": "m6po0oOmmh8F"
      },
      "execution_count": null,
      "outputs": []
    },
    {
      "cell_type": "markdown",
      "source": [
        "### Problem 1.2: Image Denoising"
      ],
      "metadata": {
        "id": "yB4q34KznxXz"
      }
    },
    {
      "cell_type": "code",
      "source": [
        "\"\"\"\n",
        "Returns the x and y gradient images for input image I.\n",
        "Input:\n",
        "I: (Tensor) Image of shape (H, W, 3)\n",
        "\n",
        "Output:\n",
        "(Ix, Iy): (Tensor) Gradient images each of shape (H, W, 3)\n",
        "\"\"\"\n",
        "def get_spatial_gradients(I):\n",
        "  I = I.permute(2, 0, 1).unsqueeze(0) # Change I's shape from (H, W, 3) to (1, 3, H, W)\n",
        "  kx = torch.zeros(I.shape[1], I.shape[1], 3, 3).to(I.device)\n",
        "  ky = torch.zeros(I.shape[1], I.shape[1], 3, 3).to(I.device)\n",
        "\n",
        "  for i in range(3):\n",
        "    kx[i, i, 1, 1] = -1\n",
        "    kx[i, i, 1, 2] = 1\n",
        "    ky[i, i, 1, 1] = -1\n",
        "    ky[i, i, 2, 1] = 1\n",
        "\n",
        "  Ix = F.conv2d(I, kx, padding=1)\n",
        "  Iy = F.conv2d(I, ky, padding=1)\n",
        "  return Ix[0,...].permute(1,2,0), Iy[0,...].permute(1,2,0)\n",
        "\n",
        "\"\"\"\n",
        "Denoising objective function.\n",
        "Input:\n",
        "I, J: (Tensor) Images of shape (H, W, 3)\n",
        "alpha: (float) Regularization hyperparameter\n",
        "\n",
        "Output:\n",
        "loss: (Tensor[float])\n",
        "\"\"\"\n",
        "def denoising_loss(I, J, alpha):\n",
        "  return None # Replace with your code for 1.2a."
      ],
      "metadata": {
        "id": "WXFdZlcVqGG_"
      },
      "execution_count": null,
      "outputs": []
    },
    {
      "cell_type": "code",
      "source": [
        "img = imageio.imread('parrot_noisy.png') / 255.0\n",
        "I = torch.tensor(img, dtype=torch.float32)\n",
        "I = I.to('cuda')\n",
        "\n",
        "lr = None # Learning rate\n",
        "alpha = None # alpha\n",
        "n_iter = None # Number of iterations\n",
        "\n",
        "for i in range(n_iter):\n",
        "  # Your code for 1.2b goes here\n",
        "\n",
        "  with torch.no_grad():\n",
        "    pass # Replace with your code for 1.2b"
      ],
      "metadata": {
        "id": "JD3Bz8Nbnz3D"
      },
      "execution_count": null,
      "outputs": []
    },
    {
      "cell_type": "markdown",
      "source": [
        "## Problem 2: Training an Image Classifier"
      ],
      "metadata": {
        "id": "ZsCVB_DyDZfE"
      }
    },
    {
      "cell_type": "markdown",
      "source": [
        "### 2a: Finish implementing dataset class"
      ],
      "metadata": {
        "id": "EFYCfKH1UD5C"
      }
    },
    {
      "cell_type": "code",
      "source": [
        "class CIFARDataset(Dataset):\n",
        "  def __init__(self, images, labels, mode, transform):\n",
        "    self.transform = transform\n",
        "\n",
        "    if mode == 'train':\n",
        "      pass # Your code here. If training, use examples [0,40000) of the\n",
        "      # entire dataset\n",
        "\n",
        "    elif mode == 'val':\n",
        "      pass # Your code here. If validation, use examples [40,000-50,000)\n",
        "      # of the entire dataset\n",
        "\n",
        "    elif mode == 'test':\n",
        "      pass # Your code here. If testing, use examples [50,000-60,000) of the\n",
        "      # entire dataset\n",
        "\n",
        "    else:\n",
        "      raise ValueError('Invalid mode!')\n",
        "\n",
        "  def __getitem__(self, idx):\n",
        "    # Do the following:\n",
        "    # 1. Get the image and label from the dataset corresponding to index idx.\n",
        "    # 2. Convert the label to a LongTensor (needs to be of this type because it\n",
        "    # is an integer value and PyTorch will throw an error otherwise)\n",
        "    # 3. Transform the image using self.transform. This will convert the image\n",
        "    # into a tensor, scale it to [0,1], and apply data augmentations.\n",
        "    # 4. Return the image and label.\n",
        "    return None\n",
        "\n",
        "  def __len__(self):\n",
        "    return None # Replace with your code."
      ],
      "metadata": {
        "id": "hMRFC93hpfVi"
      },
      "execution_count": null,
      "outputs": []
    },
    {
      "cell_type": "markdown",
      "source": [
        "### 2b: Write transforms"
      ],
      "metadata": {
        "id": "vb_AS9u6UKcv"
      }
    },
    {
      "cell_type": "code",
      "source": [
        "cifar = np.load('/content/drive/MyDrive/CIFAR.npz')\n",
        "X, y, label_names = cifar['X'], cifar['y'] * 1.0, cifar['label_names']\n",
        "print(\"Read in CIFAR10 dataset with %d examples, and labels:\\n %s\" % (X.shape[0], label_names))\n",
        "\n",
        "batch_size = 64\n",
        "\n",
        "transform = None # Add transforms.\n",
        "train_dataset = CIFARDataset(X, y, \"train\", transform)\n",
        "train_dataloader = data.DataLoader(train_dataset, batch_size=batch_size, shuffle=True, num_workers=1)\n",
        "\n",
        "transform = None # No transforms, but should still include ToTensor().\n",
        "val_dataset = CIFARDataset(X, y, \"val\", transform)\n",
        "val_dataloader = data.DataLoader(val_dataset, batch_size=batch_size, shuffle=True, num_workers=1)\n",
        "\n",
        "transform = None # No transforms, but should still include ToTensor().\n",
        "test_dataset = CIFARDataset(X, y, \"test\", transform)\n",
        "test_dataloader = data.DataLoader(test_dataset, batch_size=batch_size, shuffle=False, num_workers=1)"
      ],
      "metadata": {
        "id": "sd6nAkFRzL9E"
      },
      "execution_count": null,
      "outputs": []
    },
    {
      "cell_type": "markdown",
      "source": [
        "### 2c: Implement the model"
      ],
      "metadata": {
        "id": "7UtuM7SfURSt"
      }
    },
    {
      "cell_type": "code",
      "source": [
        "class Model(nn.Module):\n",
        "  def __init__(self):\n",
        "    super().__init__()\n",
        "    pass #Replace with your code\n",
        "\n",
        "  def forward(self, x):\n",
        "    return x #Replace with your code"
      ],
      "metadata": {
        "id": "0b11er66za2r"
      },
      "execution_count": null,
      "outputs": []
    },
    {
      "cell_type": "markdown",
      "source": [
        "### 2d/2e: Implement the training loop, and train your model."
      ],
      "metadata": {
        "id": "pXPzzAtZUU8L"
      }
    },
    {
      "cell_type": "code",
      "source": [
        "# Your code here. Don't forget to call model.train() before training!"
      ],
      "metadata": {
        "id": "n3h8ng4Bu4yZ"
      },
      "execution_count": null,
      "outputs": []
    },
    {
      "cell_type": "markdown",
      "source": [
        "### 2f: Choose the best model based on overall accuracy\n",
        "using the validation dataset."
      ],
      "metadata": {
        "id": "c09bhrEzUYZZ"
      }
    },
    {
      "cell_type": "code",
      "source": [
        "# Your code here. Don't forget to call model.eval() first!"
      ],
      "metadata": {
        "id": "strJmqVJGkBw"
      },
      "execution_count": null,
      "outputs": []
    },
    {
      "cell_type": "markdown",
      "source": [
        "### 2g: Implement code for computing overall accuracy, accuracy per class, and the confusion matrix on the test set."
      ],
      "metadata": {
        "id": "1aNs9SvXUbv9"
      }
    },
    {
      "cell_type": "code",
      "source": [
        "# Your code here. Don't forget to call model.eval() first!"
      ],
      "metadata": {
        "id": "IMO_cqS9GqEU"
      },
      "execution_count": null,
      "outputs": []
    },
    {
      "cell_type": "markdown",
      "source": [
        "## Problem 3: Run Mask R-CNN with Detectron2"
      ],
      "metadata": {
        "id": "oKYC_8FDSRoa"
      }
    },
    {
      "cell_type": "code",
      "source": [
        "# Note: This is a faster way to install detectron2 in Colab, but it does not include all functionalities (e.g. compiled operators).\n",
        "\n",
        "import sys, os, distutils.core\n",
        "!git clone 'https://github.com/facebookresearch/detectron2'\n",
        "dist = distutils.core.run_setup(\"./detectron2/setup.py\")\n",
        "!python -m pip install {' '.join([f\"'{x}'\" for x in dist.install_requires])}\n",
        "sys.path.insert(0, os.path.abspath('./detectron2'))"
      ],
      "metadata": {
        "id": "YZTzyrGkSgVT"
      },
      "execution_count": null,
      "outputs": []
    },
    {
      "cell_type": "code",
      "source": [
        "# import libraries\n",
        "import numpy as np\n",
        "import os, json, cv2, random\n",
        "from google.colab.patches import cv2_imshow\n",
        "\n",
        "import detectron2\n",
        "from detectron2 import model_zoo\n",
        "from detectron2.engine import DefaultPredictor\n",
        "from detectron2.config import get_cfg\n",
        "from detectron2.utils.visualizer import Visualizer\n",
        "from detectron2.data import MetadataCatalog, DatasetCatalog"
      ],
      "metadata": {
        "id": "Cmz8CsIXSpMi"
      },
      "execution_count": null,
      "outputs": []
    },
    {
      "cell_type": "code",
      "source": [
        "# load image\n",
        "im = cv2.imread(\"image path\")\n",
        "cv2_imshow(im)"
      ],
      "metadata": {
        "id": "iygLaAumSv4-"
      },
      "execution_count": null,
      "outputs": []
    },
    {
      "cell_type": "code",
      "source": [
        "# Load pre-trained model\n",
        "# You can find the model cofig from the following url, or other config of your choice\n",
        "# https://github.com/facebookresearch/detectron2/tree/main/configs/COCO-Detection\n",
        "# https://github.com/facebookresearch/detectron2/tree/main/configs/COCO-InstanceSegmentation\n",
        "\n",
        "##### Your code #####\n",
        "cfg = get_cfg()\n",
        "cfg.merge_from_file(model_zoo.get_config_file(\"your choice of pretrained model\"))\n",
        "cfg.MODEL.WEIGHTS = model_zoo.get_checkpoint_url(\"Your choice of pretrained model\")\n",
        "cfg.MODEL.ROI_HEADS.SCORE_THRESH_TEST =   # set threshold for this model (0-1)"
      ],
      "metadata": {
        "id": "QhGC0scvS4pm"
      },
      "execution_count": null,
      "outputs": []
    },
    {
      "cell_type": "code",
      "source": [
        "# Create predictor\n",
        "predictor = DefaultPredictor(cfg)\n",
        "# Run inference on the sample image\n",
        "outputs = predictor(im)"
      ],
      "metadata": {
        "id": "SkG8CN7AVvKr"
      },
      "execution_count": null,
      "outputs": []
    },
    {
      "cell_type": "code",
      "source": [
        "# Visualize results with \"Visualizer\"\n",
        "v = Visualizer(im[:, :, ::-1], MetadataCatalog.get(cfg.DATASETS.TRAIN[0]), scale=1.2)\n",
        "out = v.draw_instance_predictions(outputs[\"instances\"].to(\"cpu\"))\n",
        "cv2_imshow(out.get_image()[:, :, ::-1])"
      ],
      "metadata": {
        "id": "xgCa4P-MV3UH"
      },
      "execution_count": null,
      "outputs": []
    },
    {
      "cell_type": "markdown",
      "source": [
        "## Problem 4: Adversarial attacks for trained networks. Wite code below"
      ],
      "metadata": {
        "id": "tcW7S6YT4glf"
      }
    },
    {
      "cell_type": "code",
      "source": [
        "def fgsm_attack(model, image, eps):\n",
        "  # Your code here."
      ],
      "metadata": {
        "id": "q_mMeLE34j0k"
      },
      "execution_count": null,
      "outputs": []
    },
    {
      "cell_type": "code",
      "source": [
        "# Your code here for creating and displaying adversarial images."
      ],
      "metadata": {
        "id": "xQhk7ImN70s8"
      },
      "execution_count": null,
      "outputs": []
    }
  ]
}