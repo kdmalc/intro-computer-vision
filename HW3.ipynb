{
  "nbformat": 4,
  "nbformat_minor": 0,
  "metadata": {
    "colab": {
      "provenance": [],
      "include_colab_link": true
    },
    "kernelspec": {
      "name": "python3",
      "display_name": "Python 3"
    },
    "language_info": {
      "name": "python"
    },
    "gpuClass": "standard"
  },
  "cells": [
    {
      "cell_type": "markdown",
      "metadata": {
        "id": "view-in-github",
        "colab_type": "text"
      },
      "source": [
        "<a href=\"https://colab.research.google.com/github/kdmalc/fl-gestures/blob/main/ELEC_COMP_447_546_Assignment_3.ipynb\" target=\"_parent\"><img src=\"https://colab.research.google.com/assets/colab-badge.svg\" alt=\"Open In Colab\"/></a>"
      ]
    },
    {
      "cell_type": "markdown",
      "source": [
        "# ELEC/COMP 447/546 Assignment 3"
      ],
      "metadata": {
        "id": "PlZ3bpkSZao2"
      }
    },
    {
      "cell_type": "markdown",
      "source": [
        "\n",
        "## General instructions\n",
        "Please copy this colab notebook into your own Drive to edit. This notebook will also serve as your final submission report - please ensure that code cells run correctly, and that all non-code (text/latex) blocks are rendered correctly before submissing the file. Feel free to add any additional cells (code or text) you need. Please follow good coding, markdown, and presentation etiquette.\n",
        "\n",
        "__Please do not use any AI tools for this assignment.__\n",
        "\n",
        "\n",
        "## Submission instructions\n",
        "\n",
        "- Before submitting, please `run-all` the code. This will re-render your entire jupyter file cell by cell to produce all the outputs.\n",
        "\n",
        "- You are required to download the colab notebook as a `.ipynb` file and submit it to canvas. Please name your `.ipynb` file as `netid.ipynb`\n",
        "\n",
        "- Modify the text cell on top to include your name and the names of any collaborators from this class you worked with on this assignment.\n",
        "\n",
        "- Download a pdf of the executed colab notebook. You can use print -> save as pdf. Please name your `.pdf` file as `netid.pdf`.\n",
        "\n",
        "- Any extra images used in the homework should also be uploaded to canvas.\n",
        "\n",
        "- For simplicity, you can also upload a `netid.zip` file to canvas containing all solution files."
      ],
      "metadata": {
        "id": "t_52cwMJsAXF"
      }
    },
    {
      "cell_type": "code",
      "execution_count": null,
      "metadata": {
        "id": "XwIQ_WmZ7Uiv"
      },
      "outputs": [],
      "source": [
        "from PIL import Image\n",
        "import cv2\n",
        "import numpy as np\n",
        "import matplotlib.pyplot as plt"
      ]
    },
    {
      "cell_type": "markdown",
      "source": [
        "## 1.0 Implement the Lucas-Kanade algorithm"
      ],
      "metadata": {
        "id": "hyNAb4pt1jyU"
      }
    },
    {
      "cell_type": "markdown",
      "source": [
        "In this problem, you will implement the Lucas-Kanade algorithm and demonstrate tracking points\n",
        "on a video"
      ],
      "metadata": {
        "id": "UD8OuJFqD8u_"
      }
    },
    {
      "cell_type": "code",
      "source": [
        "\"\"\"\n",
        "Some helper functions that are optional to use.\n",
        "\n",
        "\"\"\"\n",
        "\n",
        "def read_video_into_numpy(filename):\n",
        "  cap = cv2.VideoCapture(filename)\n",
        "  frames = []\n",
        "  while cap.isOpened():\n",
        "    ret, frame = cap.read()\n",
        "    # if frame is read correctly ret is True\n",
        "    if not ret:\n",
        "      print(\"Can't receive frame (stream end?). Exiting ...\")\n",
        "      break\n",
        "\n",
        "    frame = cv2.cvtColor(frame, cv2.COLOR_BGR2RGB)\n",
        "    frames.append(frame)\n",
        "\n",
        "  cap.release()\n",
        "  video = np.stack(frames, axis=0)#converts to numpy array(T,H,W,C)\n",
        "  video = np.transpose(video, (1,2,3,0))#(T,H,W,C)->(H,W,C,T)\n",
        "  return frames"
      ],
      "metadata": {
        "id": "GoGCI0u5Piw9"
      },
      "execution_count": null,
      "outputs": []
    },
    {
      "cell_type": "code",
      "source": [
        "def detect_corners(img):\n",
        "  dst = cv2.cornerHarris(img, 2, 3, 0.04)\n",
        "  y,x = np.where(dst > 0.1*dst.max()) # tuple of locations\n",
        "  return x, y"
      ],
      "metadata": {
        "id": "VHkm_NjmVvNX"
      },
      "execution_count": null,
      "outputs": []
    },
    {
      "cell_type": "code",
      "source": [
        "### Your code starts here ###\n",
        "\n",
        "# Read the video into frames\n",
        "frames = read_video_into_numpy('your video.mp4')\n",
        "\n",
        "\n",
        "# Implement Lucas-Kanade\n",
        "\n",
        "\n"
      ],
      "metadata": {
        "id": "xXKAbxKjnC9u"
      },
      "execution_count": null,
      "outputs": []
    },
    {
      "cell_type": "code",
      "source": [
        "# Save the gif\n",
        "import imageio\n",
        "imageio.mimsave('tracking.gif', im_list, fps=10)  # im_list is a list of your output images"
      ],
      "metadata": {
        "id": "7YOav_ADny09"
      },
      "execution_count": null,
      "outputs": []
    },
    {
      "cell_type": "markdown",
      "source": [
        "## 3.0 Image Compression with PCA"
      ],
      "metadata": {
        "id": "s451NjKwhFvz"
      }
    },
    {
      "cell_type": "markdown",
      "source": [
        "In this problem, you will use PCA to compress images, by encoding small patches in low-\n",
        "dimensional subspaces."
      ],
      "metadata": {
        "id": "ujS2IYq6owzs"
      }
    },
    {
      "cell_type": "markdown",
      "source": [
        "### 3.1 Use PCA to model patches"
      ],
      "metadata": {
        "id": "MwRR0myOqjbk"
      }
    },
    {
      "cell_type": "code",
      "source": [
        "\"\"\"\n",
        "Some helper functions that are optional to use.\n",
        "\n",
        "\"\"\"\n",
        "\n",
        "# Sample patches from the image\n",
        "def get_patches(img, patch_size=16, n_patches=1000, overlap=True):\n",
        "  h, w, c = img.shape\n",
        "  patches = np.zeros((n_patches, patch_size * patch_size * 3))\n",
        "  for i in range(n_patches):\n",
        "    x = np.random.randint(0, w - patch_size)\n",
        "    y = np.random.randint(0, h - patch_size)\n",
        "\n",
        "    patch = img[y:y+patch_size, x:x+patch_size, :].reshape((1, -1))\n",
        "\n",
        "    patches[i, :] = patch\n",
        "  if not overlap:\n",
        "    patches = []\n",
        "    for i in range(0, h, patch_size):\n",
        "      for j in range(0, w, patch_size):\n",
        "        if i<=h-patch_size and j<w-patch_size:\n",
        "          patch = img[i:i+patch_size, j:j+patch_size, :].reshape((-1,))\n",
        "          patches.append(patch)\n",
        "\n",
        "    patches = np.asarray(patches)\n",
        "\n",
        "  return patches"
      ],
      "metadata": {
        "id": "n0XWljvRbhSv"
      },
      "execution_count": null,
      "outputs": []
    },
    {
      "cell_type": "code",
      "source": [
        "### Your code starts here ###\n",
        "\n",
        "# Load test image\n",
        "\n",
        "\n",
        "# Get patches from image\n",
        "\n",
        "\n",
        "# Implement PCA on the patches\n",
        "\n",
        "\n",
        "\n",
        "# Display the first 36 principal components\n"
      ],
      "metadata": {
        "id": "zBPNA3UMp30d"
      },
      "execution_count": null,
      "outputs": []
    },
    {
      "cell_type": "markdown",
      "source": [
        "### 3.2 Compress the image"
      ],
      "metadata": {
        "id": "hI54FNlUpQlW"
      }
    },
    {
      "cell_type": "code",
      "source": [
        "### Your code starts here ###\n",
        "\n",
        "# Image reconstruction\n",
        "\n"
      ],
      "metadata": {
        "id": "uqfywWQfq1G4"
      },
      "execution_count": null,
      "outputs": []
    }
  ]
}